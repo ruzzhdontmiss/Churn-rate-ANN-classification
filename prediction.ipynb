{
 "cells": [
  {
   "cell_type": "code",
   "execution_count": 25,
   "id": "cd322a8a",
   "metadata": {},
   "outputs": [],
   "source": [
    "import pandas\n",
    "import tensorflow as tf\n",
    "from tensorflow.keras.models import load_model\n",
    "import pickle\n",
    "import pandas as pd\n",
    "import numpy as np "
   ]
  },
  {
   "cell_type": "code",
   "execution_count": 26,
   "id": "28f1ac71",
   "metadata": {},
   "outputs": [
    {
     "name": "stderr",
     "output_type": "stream",
     "text": [
      "WARNING:absl:Compiled the loaded model, but the compiled metrics have yet to be built. `model.compile_metrics` will be empty until you train or evaluate the model.\n"
     ]
    }
   ],
   "source": [
    "model=load_model('model.h5')\n",
    "##load encoder and scalar\n",
    "with open('label_encoder_gender.pk1','rb') as file:\n",
    "    label_encoder_gender = pickle.load(file)\n",
    "\n",
    "with open ('onehot_encoder_geo.pk1','rb') as file:\n",
    "    onehot_encoder_geo= pickle.load(file)\n",
    "\n",
    "with open('scaler.pk1','rb') as file:\n",
    "    scaler = pickle.load(file)"
   ]
  },
  {
   "cell_type": "code",
   "execution_count": 27,
   "id": "0e570913",
   "metadata": {},
   "outputs": [],
   "source": [
    "Input_data = {\n",
    "'CreditScore':600,\n",
    "'Geography':'France',\n",
    "'Gender':'Male',\n",
    "'Age':40,\n",
    "'Tenure':3,\n",
    "'Balance':60000,\n",
    "'NumOfProducts':2,\n",
    "'HasCrCard':1,\n",
    "'isActiveMember':1,\n",
    "'EstimatedSalary':50000\n",
    "}"
   ]
  },
  {
   "cell_type": "code",
   "execution_count": null,
   "id": "eb6df99e",
   "metadata": {},
   "outputs": [],
   "source": []
  }
 ],
 "metadata": {
  "kernelspec": {
   "display_name": "base",
   "language": "python",
   "name": "python3"
  },
  "language_info": {
   "codemirror_mode": {
    "name": "ipython",
    "version": 3
   },
   "file_extension": ".py",
   "mimetype": "text/x-python",
   "name": "python",
   "nbconvert_exporter": "python",
   "pygments_lexer": "ipython3",
   "version": "3.12.7"
  }
 },
 "nbformat": 4,
 "nbformat_minor": 5
}
